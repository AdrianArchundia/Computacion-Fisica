{
 "cells": [
  {
   "cell_type": "markdown",
   "id": "b1ec448b",
   "metadata": {},
   "source": [
    "# Ejercicio 1\n",
    "Considera la siguiente lista de números: lista = [1, 2, 2, 2, 465, 465, 787, 788, 99, \"mundo\", \"hola mundo\", \"adios mundo\", \"hola mundo\"]. A partir de la lista crea otra lista que contenga los elementos únicos e imprimela.\n",
    "\n",
    "No vale crear la lista manualmente, debes hacerlo con código.\n",
    "\n",
    "El resultado debe ser: [1, 2, 99, 'mundo', 'hola mundo', 465, 787, 788, 'adios mundo']"
   ]
  },
  {
   "cell_type": "code",
   "execution_count": 10,
   "id": "ddb48482",
   "metadata": {},
   "outputs": [
    {
     "name": "stdout",
     "output_type": "stream",
     "text": [
      "{1, 2, 99, 'adios mundo', 465, 'mundo', 787, 788, 'hola', 'hola mundo'}\n"
     ]
    }
   ],
   "source": [
    "#Determinamos los valores de la lista\n",
    "lista = [1, 2, 2, 2, 465, 465, 787, 788, 99, \"mundo\", \"hola mundo\", \"adios mundo\", \"hola\"]\n",
    "#usamos el codigo set(lista) para crear la lista con los lementos unicos y la imprimimos\n",
    "print(set(lista))"
   ]
  },
  {
   "cell_type": "markdown",
   "id": "c1998ad1",
   "metadata": {},
   "source": [
    "# Ejercicio 2\n",
    "Una de las formas más sencillas de calcular  $π$  es mediante la siguiente serie infinita de Leibniz:\n",
    "$\\frac{π}{4}=\\sum_{n=0}^{3}\\frac{−1^n}{2n+1}=11−13+15−17+19−...$ \n",
    "\n",
    "crea un programa para aproximar  $π$  utilizando la serie de Leibniz. Usa $n = 100000$, imprime el valor de tu aproximación tanto el valor de  $\\frac{π}{4}$  como  $π$ .\n",
    "\n",
    "El valor de  $π$  se obtiene al despejar:\n",
    "$π=4(\\sum_{n=0}^{3}\\frac{−1^n}{2n+1})$"
   ]
  },
  {
   "cell_type": "code",
   "execution_count": 15,
   "id": "f1c43702",
   "metadata": {},
   "outputs": [
    {
     "name": "stdout",
     "output_type": "stream",
     "text": [
      "El valor de pi/4 es 0.7854006633724301\n",
      "El valor de pi es 3.1416026534897203\n"
     ]
    }
   ],
   "source": [
    "#Determinamos un valor neutro, es una herramienta que nos ayudara mas tarde.\n",
    "i=0\n",
    "#Se determina los valores que tomara n\n",
    "for n in range (100001):\n",
    "    d = (((-1)**n)/((2*n)+1))+i\n",
    "    #se le asigna d a i para que se sume el elmento anterior\n",
    "    i = d\n",
    "\n",
    "#imprimimos el valor de pi/4\n",
    "print (\"El valor de pi/4 es {}\".format(d))\n",
    "\n",
    "#para calcular pi, multiplicamos el resultado obtenido en la seria por 4\n",
    "m = d*4\n",
    "print (\"El valor de pi es {}\".format(m))"
   ]
  },
  {
   "cell_type": "markdown",
   "id": "5390874d",
   "metadata": {},
   "source": [
    "# Ejercicio 3\n",
    "Una sucesión { an } es una colección de números relacionados entre sí, en la que se tiene en cuenta la posición relativa de cada número respecto al anterior. Por ejemplo, la sucesión  $\\frac{1}{n}=1,1/2,1/3,1/4,...$  es convergente a cero ya que cuando  $n→∞$  el valor de  an  se acerca a cero.\n",
    "\n",
    "Una sucesión podemos verla como una lista, tal que así $[1, 1/2, 1/3,1/10000]$ (claramente con un valor maximo, pues en python no podemos tener infinitos elementos en una lista).\n",
    "\n",
    "Considera la sucesión  $a_n=3−\\frac{1}{n}$ , crea un programa que haga una lista con los primeros 10 mil terminos de dicha sucesion (no la imprimas).\n",
    "\n",
    "Imprime los últimos 15 elementos de la lista y discute en una celda Markdown si esta sucesión es convergente y hacía que valor converge. Investiga que condición debe cumplir para que una suceción sea monótona creciente y monótona decreciente, con ello responde si es creciente o decreciente."
   ]
  },
  {
   "cell_type": "code",
   "execution_count": 16,
   "id": "7ee6ea64",
   "metadata": {
    "scrolled": true
   },
   "outputs": [
    {
     "name": "stdout",
     "output_type": "stream",
     "text": [
      "[2.999899859803725, 2.99989986983078, 2.999899879855827, 2.9998998898788667, 2.9998998998999, 2.999899909918927, 2.999899919935949, 2.9998999299509657, 2.9998999399639783, 2.9998999499749877, 2.9998999599839937, 2.9998999699909974, 2.999899979995999, 2.9998999899989998, 2.9999]\n"
     ]
    }
   ],
   "source": [
    "#creamos una lista sin elementos\n",
    "vacia = []\n",
    "#Determinamos a la sucecion en un rango hasta 10000, sin el cero para evitar percanses.\n",
    "for n in range (1,10001):\n",
    "    \n",
    "    m = 3-(1/n)\n",
    "#Al operar la sucecion le añadimos el resultado a la lista vacia antes creada\n",
    "    vacia.append(m)\n",
    "\n",
    "#Solo imprimimos los ultimos 15 elmentos \n",
    "print (vacia[-15:])\n"
   ]
  },
  {
   "cell_type": "markdown",
   "id": "d7bb859a",
   "metadata": {},
   "source": [
    "La sucesion converge a 3, ya que, nunca va a llegar al 3 por mas grande que sea el valor que le asignemos, debido a que el valor $\\frac{1}{n}$ sera cada vez mas chico pero nunca cero, y al restarselo a 3 nunca obtendremos el neutro aditivo para tenenr el mismo 3. Por otra parte,  para que sea creciente el el termino que le sigue de la sucesion es siemore mayor o igual al anterior, y para que sea decreciente el temino siguente de la serie es sieempre menor o igual al anterior. Asi que, la serie $3-\\frac{1}{n}$ es creciente, ya que, los valores de la serie van a ser mas grandes al anterior"
   ]
  },
  {
   "cell_type": "markdown",
   "id": "93a594b8",
   "metadata": {},
   "source": [
    "# Ejercicio 4\n",
    "Crea un ciclo for a modo de que la salida sea la siguiente:\n",
    "\n",
    "10\n",
    "\n",
    "9\n",
    "\n",
    "8\n",
    "\n",
    "7\n",
    "\n",
    "6\n",
    "\n",
    "...\n",
    "\n",
    "2\n",
    "\n",
    "1\n",
    "\n",
    "0"
   ]
  },
  {
   "cell_type": "code",
   "execution_count": 17,
   "id": "fdc30360",
   "metadata": {},
   "outputs": [
    {
     "name": "stdout",
     "output_type": "stream",
     "text": [
      "10\n",
      "9\n",
      "8\n",
      "7\n",
      "6\n",
      "5\n",
      "4\n",
      "3\n",
      "2\n",
      "1\n",
      "0\n"
     ]
    }
   ],
   "source": [
    "#Establecemos un ciclo for del 0 al 10.\n",
    "for l in range (11):\n",
    "    #Determnamos a la a r como 10-l\n",
    "    r = 10-l\n",
    "    #Imprimimos el valor de r\n",
    "    print (r)"
   ]
  }
 ],
 "metadata": {
  "kernelspec": {
   "display_name": "Python 3 (ipykernel)",
   "language": "python",
   "name": "python3"
  },
  "language_info": {
   "codemirror_mode": {
    "name": "ipython",
    "version": 3
   },
   "file_extension": ".py",
   "mimetype": "text/x-python",
   "name": "python",
   "nbconvert_exporter": "python",
   "pygments_lexer": "ipython3",
   "version": "3.9.13"
  }
 },
 "nbformat": 4,
 "nbformat_minor": 5
}
