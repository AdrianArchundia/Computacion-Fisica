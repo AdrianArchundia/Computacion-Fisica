{
 "cells": [
  {
   "cell_type": "markdown",
   "id": "8a53fe6f",
   "metadata": {},
   "source": [
    "# Ejercicio 1\n",
    "## ¿Qué es un nombre reservado en python? \n",
    "Las palabras reservadas, como su nombre lo indican, son palabras las cuales el lenguaje de programación ya ha reservado para realizar ciertas tareas.\n",
    "\n",
    "**Ejemplos**\n",
    "1. Def: se usa para definir una función definida por el usuario\n",
    "2. For: Utilizado para hacer bucles. Generalmente lo usamos cuando sabemos la cantidad de veces que queremos que se ejecute ese bucle\n",
    "3. In: Para comprobar si un valor está presente en una lista, tupla, etc. Devuelve True si el valor está presente, de lo contrario devuelve False\n",
    "4. From: Para importar partes específicas de un módulo\n",
    "5. Del: Para eliminar un objeto"
   ]
  },
  {
   "cell_type": "markdown",
   "id": "bccd09d6",
   "metadata": {},
   "source": [
    "# Ejercicio 2\n",
    "## Nombres de variables no validos en python \n",
    "\n",
    "1. 2=1 No se podria porque estarias poniendo una constante como una variable.\n",
    "2. \"def\"=5. No se puede, ya que, no puedes nombrar a una palabra reservada como una variable.\n",
    "3. *=3. No se puede, ya que, un simbolo que se encarga de operar no puede volverse una variable"
   ]
  },
  {
   "cell_type": "markdown",
   "id": "d484501f",
   "metadata": {},
   "source": [
    "# Ejercicio 3\n",
    "## Solucion de f(x)=10x^2−2x \n",
    "\n",
    "**Metodo de despeje**\n",
    "1. Igualamos la ecuacion a cero, obteniendo $10x^2−2x=0$\n",
    "2. Factorizamos la $x$ en la ecuacion: $x(10x-2)=0$, de donde $x=0$ o $10x-2=0$\n",
    "3. consideremos $10x-2=0$, de donde, $x=\\frac{1}{5}$\n",
    "4. juntamos los dos resultados y obtenemos que las raices del polinomio son $x=0$ o $x=\\frac{1}{5}$\n",
    "\n",
    "**Chicharronera**\n",
    "1. Igualamos la ecuacion a cero, obteniendo $10x^2−2x=0$\n",
    "2. consideramos la ecuacion de la chicharronera y sustituimos los valores del polinomio en ella, obteniendo, $x=\\frac{2\\pm\\sqrt{-2^{2}-4(10)(0)}}{2(10)}$\n",
    "3. Haciendo las operaciones obtenemos, $x=\\frac{2\\pm2}{20}$, de donde, $x=0$ o $x=\\frac{1}{5}$\n",
    "4. Finalmente, obtenemos que las soluciones son $x=0$ o $x=\\frac{1}{5}$"
   ]
  },
  {
   "cell_type": "code",
   "execution_count": 3,
   "id": "aa3c079b",
   "metadata": {},
   "outputs": [
    {
     "name": "stdout",
     "output_type": "stream",
     "text": [
      "introduce el valor de a: 10\n",
      "introduce el valor de b: -2\n",
      "el valor de x1 es: \n",
      "0\n",
      "el valor de x2 es: \n",
      "0.2\n"
     ]
    }
   ],
   "source": [
    "# Determinamos e introducimos los valores de las variables\n",
    "a = float(input(\"introduce el valor de a: \"))\n",
    "b = float(input(\"introduce el valor de b: \"))\n",
    "#se sustituye en las ecuaciones\n",
    "x1=0\n",
    "\n",
    "x2=-b/a\n",
    "#imprimimos los resultados\n",
    "print(\"el valor de x1 es: \")\n",
    "print(x1)\n",
    "\n",
    "print(\"el valor de x2 es: \")\n",
    "print(x2)"
   ]
  },
  {
   "cell_type": "code",
   "execution_count": 4,
   "id": "d94005f4",
   "metadata": {},
   "outputs": [
    {
     "name": "stdout",
     "output_type": "stream",
     "text": [
      "introduce el valor de a: 10\n",
      "introduce el valor de b: -2\n",
      "introduce el valor de c: 0\n",
      "el valor de x1 es: \n",
      "0.2\n",
      "el valor de x2 es: \n",
      "0.0\n"
     ]
    }
   ],
   "source": [
    "# Determinamos e introducimos los valores de las variables\n",
    "a = float(input(\"introduce el valor de a: \"))\n",
    "b = float(input(\"introduce el valor de b: \"))\n",
    "c = float(input(\"introduce el valor de c: \"))\n",
    "\n",
    "#los sustituimos en las ecuaciones\n",
    "x1=(-b+(((b**2)-(4*a*c))**0.5))/(2*a)\n",
    "\n",
    "x2=(-b-(((b**2)-(4*a*c))**0.5))/(2*a)\n",
    "\n",
    "#imprimimos los resultados \n",
    "print(\"el valor de x1 es: \")\n",
    "print(x1)\n",
    "\n",
    "print(\"el valor de x2 es: \")\n",
    "print(x2)"
   ]
  },
  {
   "cell_type": "markdown",
   "id": "352592ef",
   "metadata": {},
   "source": [
    "# Ejercicio 4\n",
    "Caida libre: El gran Galileo Galilei subió la torre de Pisa para determinar el tiempo que tarda un objeto en caer desde una altura  $H$  al suelo. Para ello, colocó un objeto de masa  $m=100$  kg en la torre y lo dejó caer. El tiempo que tardó en caer fue  $t=3.3700002  segundos$.\n",
    "\n",
    "Considerando que la aceleración de la gravedad es  $g=9.8\\frac{m}{s^2}$ , ¿cual es la altura de la torre de Pisa?."
   ]
  },
  {
   "cell_type": "code",
   "execution_count": 6,
   "id": "d5723865",
   "metadata": {},
   "outputs": [
    {
     "name": "stdout",
     "output_type": "stream",
     "text": [
      "introduce el valor de g: 9.8\n",
      "introduce el valor de t: 3.3700002\n",
      "la altura es de: \n",
      "55.64881660520019\n"
     ]
    }
   ],
   "source": [
    "#Asignaremos los valores de las variables\n",
    "g = float(input(\"introduce el valor de g: \"))\n",
    "t = float(input(\"introduce el valor de t: \"))\n",
    "#Sustituimos los valores en la ecuacion \n",
    "H=(1/2)*(g*(t**2))\n",
    "\n",
    "#Imprimimos el resultado\n",
    "print(\"la altura es de: \")\n",
    "print(H)"
   ]
  },
  {
   "cell_type": "markdown",
   "id": "2f3d30d4",
   "metadata": {},
   "source": [
    "# Ejercicio 5\n",
    "Considera una lista de números enteros del 0 al 99 : lista = [0,1, 2, 3, 4, ... , 95, 96, 97, 98, 99]. En una celda de código, escribe un programa que imprima en la pantalla una la lista que cumpla con las siguientes condiciones:\n",
    "\n",
    "Los ultimos 10 elementos: debe imprimir lo siguiente [90, 91, 92, 93, 94, 95, 96, 97, 98, 99].\n",
    "Los primeros 11 elementos: debe imprimir lo siguiente [0, 1, 2, 3, 4, 5, 6, 7, 8, 9, 10].\n",
    "La serie de elementos de la lista que están entre 60 y 75: debe imprimir lo siguiente [60, 61, 62, 63, 64, 65, 66, 67, 68, 69, 70, 71, 72, 73, 74, 75].\n",
    "El número 50: debe imprimir lo siguiente 50.\n"
   ]
  },
  {
   "cell_type": "code",
   "execution_count": 2,
   "id": "ee02762d",
   "metadata": {},
   "outputs": [
    {
     "name": "stdout",
     "output_type": "stream",
     "text": [
      "[90, 91, 92, 93, 94, 95, 96, 97, 98, 99]\n",
      "[0, 1, 2, 3, 4, 5, 6, 7, 8, 9, 10]\n",
      "[60, 61, 62, 63, 64, 65, 66, 67, 68, 69, 70, 71, 72, 73, 74, 75]\n",
      "50\n"
     ]
    }
   ],
   "source": [
    "# se determina la lista\n",
    "lista = list(range(100))\n",
    "#creamos una nueva lista llamada final en donde vayan los elementos requeridos\n",
    "final = lista[0:11]+lista[50:51]+lista[60:76]+lista[90:100]\n",
    "#Imprimimos los resultados\n",
    "print (final[-10:])\n",
    "print (final[:11])\n",
    "print (final[12:-10])\n",
    "print (final[11])"
   ]
  }
 ],
 "metadata": {
  "kernelspec": {
   "display_name": "Python 3 (ipykernel)",
   "language": "python",
   "name": "python3"
  },
  "language_info": {
   "codemirror_mode": {
    "name": "ipython",
    "version": 3
   },
   "file_extension": ".py",
   "mimetype": "text/x-python",
   "name": "python",
   "nbconvert_exporter": "python",
   "pygments_lexer": "ipython3",
   "version": "3.9.13"
  }
 },
 "nbformat": 4,
 "nbformat_minor": 5
}
